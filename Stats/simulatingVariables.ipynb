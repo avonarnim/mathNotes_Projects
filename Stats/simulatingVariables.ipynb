{
 "cells": [
  {
   "cell_type": "code",
   "execution_count": 1,
   "metadata": {},
   "outputs": [],
   "source": [
    "import numpy as np\n",
    "import matplotlib.pyplot as plt\n",
    "from scipy.stats import norm, cauchy\n",
    "import math"
   ]
  },
  {
   "cell_type": "code",
   "execution_count": 2,
   "metadata": {},
   "outputs": [],
   "source": [
    "# Note: \"Random Variable\" is abbreviated by \"RV\""
   ]
  },
  {
   "cell_type": "markdown",
   "metadata": {},
   "source": [
    "## Problem 1: Simulating 100 normal RVs X, given X~N(μ=1.5, σ=2)."
   ]
  },
  {
   "cell_type": "code",
   "execution_count": 3,
   "metadata": {},
   "outputs": [],
   "source": [
    "mean = 1.5\n",
    "standard_deviation = 2\n",
    "total_samples = 100\n",
    "\n",
    "# The function normal(x, y, z) takes in the parameters for a normal distribution \n",
    "# and returns a specified amount of samples.\n",
    "samples = np.random.normal(mean, standard_deviation, total_samples)"
   ]
  },
  {
   "cell_type": "code",
   "execution_count": 4,
   "metadata": {},
   "outputs": [
    {
     "data": {
      "image/png": "[encoded data removed]",
      "text/plain": [
       "<Figure size 432x288 with 1 Axes>"
      ]
     },
     "metadata": {
      "needs_background": "light"
     },
     "output_type": "display_data"
    }
   ],
   "source": [
    "plt.title(\"Problem 1: 100 Normal RVs.\\n Adam von Arnim. 09/25/20.\")\n",
    "plt.xlabel(\"Variable Value\")\n",
    "plt.ylabel(\"Frequency\")\n",
    "count, bins, ignored = plt.hist(samples, 28, (-4, 10))"
   ]
  },
  {
   "cell_type": "markdown",
   "metadata": {},
   "source": [
    "## Problem 2: Estimating P(X > 0), given 100 samples of X, where X ~ N(μ=1.5, σ=2)."
   ]
  },
  {
   "cell_type": "code",
   "execution_count": 5,
   "metadata": {},
   "outputs": [
    {
     "name": "stdout",
     "output_type": "stream",
     "text": [
      "Number of samples above 0: 75\n",
      "Proportion & estimate of samples above 0: 0.75\n"
     ]
    }
   ],
   "source": [
    "# An estimate for P(X > 0) can be found by finding how many of the 100 samples\n",
    "# from Problem 1 had a value above 0.\n",
    "samplesAboveZero = 0\n",
    "for sample in samples:\n",
    "    if sample > 0:\n",
    "        samplesAboveZero += 1\n",
    "print(\"Number of samples above 0: \" + str(samplesAboveZero))\n",
    "\n",
    "simulated_probability = samplesAboveZero/total_samples\n",
    "simulated_probability = str(simulated_probability)\n",
    "print(\"Proportion & estimate of samples above 0: \" + str(simulated_probability))"
   ]
  },
  {
   "cell_type": "code",
   "execution_count": 6,
   "metadata": {},
   "outputs": [
    {
     "name": "stdout",
     "output_type": "stream",
     "text": [
      "Theoretical probability: 0.773\n"
     ]
    }
   ],
   "source": [
    "# To get a theoretical value for this probability, use the normal distribution's cdf\n",
    "# to find the area to the right of 0 for X ~ N(1.5, 2).\n",
    "# The function cdf(x, y, z) gives the area to the left of x, so 1 - cdf(x,y,z) is \n",
    "# done to find the area to the right.\n",
    "actual_probability = 1 - norm.cdf(0, 1.5, 2)\n",
    "actual_probability = actual_probability.astype(str)\n",
    "actual_probability = actual_probability[:5]\n",
    "print(\"Theoretical probability: \" + str(actual_probability))"
   ]
  },
  {
   "cell_type": "code",
   "execution_count": 7,
   "metadata": {
    "scrolled": true
   },
   "outputs": [
    {
     "data": {
      "image/png": "[encoded data removed]",
      "text/plain": [
       "<Figure size 432x288 with 1 Axes>"
      ]
     },
     "metadata": {
      "needs_background": "light"
     },
     "output_type": "display_data"
    }
   ],
   "source": [
    "plt.title(\"Problem 2: Probability that a Single Normal\\nRandom Variable with μ=1.5, σ=2 \"\n",
    "          + \"is Above 0.\\nAdam von Arnim. 09/25/20.\")\n",
    "count, bins, ignored = plt.hist(samples, 28, (-4, 10))\n",
    "count, bins, ignored = plt.hist(samples, 20, (0, 10), color=\"maroon\", \n",
    "                                label=\"Estimated Prob. = \"+simulated_probability)\n",
    "plt.figtext(.59, .75, \"Theoretical Prob. = \"+actual_probability)\n",
    "plt.xlabel(\"Variable Value\")\n",
    "plt.ylabel(\"Frequency\")\n",
    "plt.legend(loc=\"upper right\")\n",
    "plt.show()"
   ]
  },
  {
   "cell_type": "markdown",
   "metadata": {},
   "source": [
    "## Problem 3: Simulating 100 sample means of 20 normal RVs X, where X ~ N(μ=1.5, σ=2)."
   ]
  },
  {
   "cell_type": "code",
   "execution_count": 8,
   "metadata": {
    "scrolled": true
   },
   "outputs": [],
   "source": [
    "mean = 1.5\n",
    "standard_deviation = 2\n",
    "samples_per_mean = 20\n",
    "total_means = 100\n",
    "sample_means = []\n",
    "# Collecting 100 groups of 20 samples\n",
    "for i in range(0,100):\n",
    "    samples = np.random.normal(mean, standard_deviation, samples_per_mean)\n",
    "    sample_sum = 0\n",
    "    # Finding the sample mean: the average of the 20 samples\n",
    "    for sample in samples:\n",
    "        sample_sum += sample\n",
    "    sample_means.append(sample_sum / samples.size)"
   ]
  },
  {
   "cell_type": "code",
   "execution_count": 9,
   "metadata": {},
   "outputs": [
    {
     "name": "stdout",
     "output_type": "stream",
     "text": [
      "Number of sample means greater than 0: 100\n",
      "Estimate of sample means greater than 0: 1.0\n"
     ]
    }
   ],
   "source": [
    "samplesAboveZero = 0\n",
    "for sample in sample_means:\n",
    "    if sample > 0:\n",
    "        samplesAboveZero += 1\n",
    "print(\"Number of sample means greater than 0: \" + str(samplesAboveZero))\n",
    "\n",
    "simulated_probability = samplesAboveZero/total_means\n",
    "simulated_probability = str(simulated_probability)\n",
    "print(\"Estimate of sample means greater than 0: \" + str(simulated_probability))"
   ]
  },
  {
   "cell_type": "markdown",
   "metadata": {},
   "source": [
    "Note that the sample mean of a normal distribution has expected value μ and variance (σ^2)/n.\n",
    "Proof:\n",
    "### E(X̄) = (1/n)ΣE(Xi) = (1/n)(nμ) = μ\n",
    "### var(X̄) = (1/n^2)Σvar(Xi) = (1/n^2)(nσ^2) = σ^2/n"
   ]
  },
  {
   "cell_type": "code",
   "execution_count": 10,
   "metadata": {},
   "outputs": [
    {
     "data": {
      "text/plain": [
       "'0.999'"
      ]
     },
     "execution_count": 10,
     "metadata": {},
     "output_type": "execute_result"
    }
   ],
   "source": [
    "# Using the same principal as in Problem 2, substituting the enw variance to get \n",
    "# the theoretical value for this probability.\n",
    "standard_deviation = math.sqrt(standard_deviation*standard_deviation / samples_per_mean)\n",
    "actual_probability = 1 - norm.cdf(0, mean, standard_deviation)\n",
    "actual_probability = actual_probability.astype(str)\n",
    "actual_probability = actual_probability[:5]\n",
    "actual_probability"
   ]
  },
  {
   "cell_type": "code",
   "execution_count": 11,
   "metadata": {},
   "outputs": [
    {
     "data": {
      "image/png": "[encoded data removed]",
      "text/plain": [
       "<Figure size 432x288 with 1 Axes>"
      ]
     },
     "metadata": {
      "needs_background": "light"
     },
     "output_type": "display_data"
    }
   ],
   "source": [
    "plt.title(\"Problem 3: Sample Means of Normal RVs.\\n Adam von Arnim. 09/25/20.\")\n",
    "count, bins, ignored = plt.hist(sample_means, 28, (-4, 10))\n",
    "count, bins, ignored = plt.hist(sample_means, 20, (0, 10), color=\"maroon\", \n",
    "                                label=\"Estimated Prob. = \"+simulated_probability)\n",
    "plt.figtext(.59, .75, \"Theoretical Prob. = \"+actual_probability)\n",
    "plt.xlabel(\"Variable Value\")\n",
    "plt.ylabel(\"Frequency\")\n",
    "plt.legend(loc=\"upper right\")\n",
    "plt.show()"
   ]
  },
  {
   "cell_type": "markdown",
   "metadata": {},
   "source": [
    "## Problem 4: Comparing the estimates and histograms."
   ]
  },
  {
   "cell_type": "markdown",
   "metadata": {},
   "source": [
    "### The histogram for the 100 normal random variables has a wider distribution than the histogram for the 100 sample means. This is a result of the sample mean distribution's smaller standard deviation.\n",
    "### Since the mean is above 0 and the sample means have a tighter distribution, the experimental probability of a sample mean being greater than 0 is higher than the experimental probability of a single normal random variable being greater than 0."
   ]
  },
  {
   "cell_type": "markdown",
   "metadata": {},
   "source": [
    "## Problem 5: Simulating the Cauchy Distribution."
   ]
  },
  {
   "cell_type": "markdown",
   "metadata": {},
   "source": [
    "### Part 1: Generating 100 RVs of the form 1.5+2(X/Y), where X and Y ~ N(0, 1)."
   ]
  },
  {
   "cell_type": "code",
   "execution_count": 12,
   "metadata": {},
   "outputs": [],
   "source": [
    "# Generating 100 values for both X and Y\n",
    "mean = 0\n",
    "standard_deviation = 1\n",
    "total_samples = 100\n",
    "\n",
    "Xsamples = np.random.normal(mean, standard_deviation, total_samples)\n",
    "Ysamples = np.random.normal(mean, standard_deviation, total_samples)"
   ]
  },
  {
   "cell_type": "code",
   "execution_count": 13,
   "metadata": {
    "scrolled": true
   },
   "outputs": [],
   "source": [
    "# Creating variables of the form 1.5+2(X/Y)\n",
    "# These variables have the Cauchy distribution with loc=1.5, scale=2.\n",
    "location = 1.5\n",
    "scale = 2\n",
    "variables = []\n",
    "for idx in range(total_samples):\n",
    "    variables.append(location+Xsamples[idx]*scale/Ysamples[idx])"
   ]
  },
  {
   "cell_type": "code",
   "execution_count": 14,
   "metadata": {},
   "outputs": [
    {
     "data": {
      "image/png": "[encoded data removed]",
      "text/plain": [
       "<Figure size 432x288 with 1 Axes>"
      ]
     },
     "metadata": {
      "needs_background": "light"
     },
     "output_type": "display_data"
    }
   ],
   "source": [
    "plt.title(\"Problem 5: 100 Cauchy RVs.\\nAdam von Arnim. 09/25/20.\")\n",
    "plt.xlabel(\"Variable Value\")\n",
    "plt.ylabel(\"Frequency\")\n",
    "count, bins, ignored = plt.hist(variables, 28, (-4, 10))"
   ]
  },
  {
   "cell_type": "markdown",
   "metadata": {},
   "source": [
    "### Part 2: Estimating P(C > 0), given 100 samples of C, where C = 1.5+2(X/Y)"
   ]
  },
  {
   "cell_type": "code",
   "execution_count": 15,
   "metadata": {},
   "outputs": [
    {
     "name": "stdout",
     "output_type": "stream",
     "text": [
      "Number of samples above 0: 67\n",
      "Proportion & estimate of samples above 0: 0.67\n"
     ]
    }
   ],
   "source": [
    "# Counting the number of results above 0\n",
    "samplesAboveZero = 0\n",
    "for var in variables:\n",
    "    if var > 0:\n",
    "        samplesAboveZero += 1\n",
    "print(\"Number of samples above 0: \" + str(samplesAboveZero))\n",
    "simulated_probability = samplesAboveZero/total_samples\n",
    "simulated_probability = str(simulated_probability)\n",
    "print(\"Proportion & estimate of samples above 0: \" + str(simulated_probability))"
   ]
  },
  {
   "cell_type": "code",
   "execution_count": 16,
   "metadata": {},
   "outputs": [
    {
     "name": "stdout",
     "output_type": "stream",
     "text": [
      "Theoretical probability: 0.704\n"
     ]
    }
   ],
   "source": [
    "# Since the generated variable has Cauchy distribution with known location and \n",
    "# scale parameters, the theoretical probability of a sample being less than 0 is\n",
    "# given by cdf(0, location, scale) To find the probability of it being larger, \n",
    "# subtract it from 1\n",
    "actual_probability = 1 - cauchy.cdf(0, location, scale)\n",
    "actual_probability = actual_probability.astype(str)\n",
    "actual_probability = actual_probability[:5]\n",
    "print(\"Theoretical probability: \" + str(actual_probability))"
   ]
  },
  {
   "cell_type": "code",
   "execution_count": 17,
   "metadata": {},
   "outputs": [
    {
     "data": {
      "image/png": "[encoded data removed]",
      "text/plain": [
       "<Figure size 432x288 with 1 Axes>"
      ]
     },
     "metadata": {
      "needs_background": "light"
     },
     "output_type": "display_data"
    }
   ],
   "source": [
    "count, bins, ignored = plt.hist(variables, 28, (-4, 10))\n",
    "count, bins, ignored = plt.hist(variables, 20, (0, 10), color=\"maroon\", \n",
    "                                label=\"Estimated Prob. = \"+simulated_probability)\n",
    "plt.figtext(.59, .75, \"Theoretical Prob. = \"+actual_probability)\n",
    "plt.title(\"Problem 5: Probability that a Single Cauchy RV\\nwith location 1.5 and scale \"\n",
    "          + \"2 is Above 0.\\nAdam von Arnim. 09/25/20.\")\n",
    "plt.xlabel(\"Variable Value\")\n",
    "plt.ylabel(\"Frequency\")\n",
    "plt.legend(loc=\"upper right\")\n",
    "plt.show()"
   ]
  },
  {
   "cell_type": "markdown",
   "metadata": {},
   "source": [
    "### Part 3: Simulating 100 Sample Means of 20 Cauchy RVs with loc=1.5, scale=2."
   ]
  },
  {
   "cell_type": "code",
   "execution_count": 18,
   "metadata": {},
   "outputs": [],
   "source": [
    "location = 1.5\n",
    "scale = 2\n",
    "mean = 0\n",
    "standard_deviation = 1\n",
    "samples_per_mean = 20\n",
    "total_means = 100\n",
    "sample_means = []\n",
    "\n",
    "# Generating 100 groups of 20 samples\n",
    "for i in range(total_means):\n",
    "    Xsamples = np.random.normal(mean, standard_deviation, samples_per_mean)\n",
    "    Ysamples = np.random.normal(mean, standard_deviation, samples_per_mean)\n",
    "    sample_sum = 0\n",
    "    # Finding sample mean of a group\n",
    "    for idx in range(samples_per_mean):\n",
    "        sample_sum += location+Xsamples[idx]*scale/Ysamples[idx]\n",
    "    sample_means.append(sample_sum / samples_per_mean)\n"
   ]
  },
  {
   "cell_type": "code",
   "execution_count": 19,
   "metadata": {},
   "outputs": [
    {
     "name": "stdout",
     "output_type": "stream",
     "text": [
      "Number of sample means above zero 74\n",
      "Proportion & estimate of sample means above zero: 0.74\n"
     ]
    }
   ],
   "source": [
    "# Counting number of sample means above 0\n",
    "samplesAboveZero = 0\n",
    "for sample in sample_means:\n",
    "    if sample > 0:\n",
    "        samplesAboveZero += 1\n",
    "print(\"Number of sample means above zero \" + str(samplesAboveZero))\n",
    "\n",
    "simulated_probability = samplesAboveZero/total_means\n",
    "simulated_probability = str(simulated_probability)\n",
    "print(\"Proportion & estimate of sample means above zero: \" + str(simulated_probability))"
   ]
  },
  {
   "cell_type": "markdown",
   "metadata": {},
   "source": [
    "define X = mu + sigma*z\n",
    "    location parameter = mu\n",
    "    scale parameter = sigma\n",
    "pdf of X, f(x) = (1/sigma)*f((x-mu)/sigma)\n",
    "    characteristic function of X, phi(t) = Ee^(itmu)*phi(sigma*t)\n",
    "    \n",
    "U & V are independent RVs --> characteristic function of U+V aka phi(u+v)= phiu * phiv\n",
    "    e^(it(U+V)) = e^(itu)*e^(itv)\n",
    "    \n",
    "given X1, ..., Xn iid as RV X\n",
    "characteristic function of sample mean = (1/n)*Sum(Xk)\n",
    "    phi(sample mean)(t) [by iid] = (phi(x)(t/n))^n\n",
    "\n",
    "2) given std cauchy distribution, pdf = 1/(pi(1+x^2))\n",
    "    phi(t) = e^(-|t|)\n",
    "4) given Z ~ Cauchy, EZ is not defined, variance is infinity\n",
    "    BUT by characteristic function, X-barn is equal in distribution to X (SHOW THIS)\n",
    "    phi(x)(t) = e^(i*mu*t)e^(-|t|sigma)\n",
    "    phi(x-barn)(t) = (e^(i*mu*t/n)e^(-|t/n|sigma)^n = phi(x)(t)\n",
    "    \n",
    "    "
   ]
  },
  {
   "cell_type": "markdown",
   "metadata": {},
   "source": [
    "Note that the Cauchy distribution is a stable distribution, meaning the distribution of its sample mean is the \n",
    "same Cauchy distribution. Proof:\n",
    "    \n",
    "The characteristic function of X is φ(t) = Ee^(itμ)*φ(σ*t).\n",
    "    Note: the characteristic function of X is the Fourier transform of the pdf.\n",
    "    The Cauchy distribution pdf is 1/(pi(1+x^2)), so φx(t)=e^(i*mu*t)e^(-|t|sigma)\n",
    "If U & V are independent random variables, the characteristic function of U+V, e^(it(U+V)), is e^(itu)*e^(itv).\n",
    "    Given X1, ..., Xn iid, phi(x-barn)(t) = (e^(i*mu*t/n)e^(-|t/n|sigma)^n = phi(x)(t)\n",
    "    "
   ]
  },
  {
   "cell_type": "code",
   "execution_count": 20,
   "metadata": {},
   "outputs": [
    {
     "name": "stdout",
     "output_type": "stream",
     "text": [
      "Theoretical probability: 0.704\n"
     ]
    }
   ],
   "source": [
    "actual_probability = 1 - cauchy.cdf(0, location, scale)\n",
    "actual_probability = actual_probability.astype(str)\n",
    "actual_probability = actual_probability[:5]\n",
    "print(\"Theoretical probability: \" + str(actual_probability))"
   ]
  },
  {
   "cell_type": "code",
   "execution_count": 21,
   "metadata": {},
   "outputs": [
    {
     "data": {
      "image/png": "[encoded data removed]",
      "text/plain": [
       "<Figure size 432x288 with 1 Axes>"
      ]
     },
     "metadata": {
      "needs_background": "light"
     },
     "output_type": "display_data"
    }
   ],
   "source": [
    "plt.title(\"Problem 5: Sample Means of Cauchy RVs.\\nAdam von Arnim. 09/25/20.\")\n",
    "count, bins, ignored = plt.hist(sample_means, 28, (-4, 10))\n",
    "count, bins, ignored = plt.hist(sample_means, 20, (0, 10), color=\"maroon\", \n",
    "                                label=\"Estimated Prob. = \"+simulated_probability)\n",
    "plt.figtext(.59, .75, \"Theoretical Prob. = \"+actual_probability)\n",
    "plt.xlabel(\"Variable Value\")\n",
    "plt.ylabel(\"Frequency\")\n",
    "plt.legend(loc=\"upper right\")\n",
    "plt.show()"
   ]
  },
  {
   "cell_type": "markdown",
   "metadata": {},
   "source": [
    "### Part 4: Comparing the historgrams"
   ]
  },
  {
   "cell_type": "markdown",
   "metadata": {},
   "source": [
    "Since the sample mean has the same distribution as the sample, the distribution is no more or less tight, and the estimated probability of getting a value above 0 is roughly the same."
   ]
  },
  {
   "cell_type": "markdown",
   "metadata": {},
   "source": [
    "### Part 5: Comparing the normal and Cauchy distributions"
   ]
  },
  {
   "cell_type": "markdown",
   "metadata": {},
   "source": [
    "The Cauchy distribution is constructed by dividing normal random variables, and this results in instances where the denominator is smaller than the numerator, making the quotient large. This widens the spread of the distribution compared to the spread of a normal random variable.\n",
    "\n",
    "In the normal sampling, P( sample mean > 0 ) becomes higher for the sample mean. This is justified by the Central Limit Theorem, which states that the variance of the sample mean is equal to the variance divided by the sample size. Considering that the Cauchy distribution is stable and does not obey the Central Limit Theorem, it makes sense that the theoretical P( sample mean > 0) remains the same."
   ]
  },
  {
   "cell_type": "code",
   "execution_count": null,
   "metadata": {},
   "outputs": [],
   "source": []
  }
 ],
 "metadata": {
  "kernelspec": {
   "display_name": "Python 3",
   "language": "python",
   "name": "python3"
  },
  "language_info": {
   "codemirror_mode": {
    "name": "ipython",
    "version": 3
   },
   "file_extension": ".py",
   "mimetype": "text/x-python",
   "name": "python",
   "nbconvert_exporter": "python",
   "pygments_lexer": "ipython3",
   "version": "3.7.6"
  }
 },
 "nbformat": 4,
 "nbformat_minor": 4
}
