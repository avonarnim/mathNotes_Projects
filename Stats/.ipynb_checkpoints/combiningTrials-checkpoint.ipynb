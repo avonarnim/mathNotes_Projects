{
 "cells": [
  {
   "cell_type": "markdown",
   "metadata": {},
   "source": [
    "Big idea = decision making\n",
    "     in here, we're just deciding which population corresponds to which characteristic\n",
    "B/C basically work with sample variance\n",
    "D: there is no single answer, but whatever you do is probably okay\n",
    "Switching from Gaussian to Cauchy is like a research project\n",
    "    we are looking for the ratio of the squares or absolute values\n",
    "    Part 2 compares the same procedures when we don't have normals\n",
    "        With Cauchy, sample variance is basically meaningless"
   ]
  },
  {
   "cell_type": "code",
   "execution_count": 1,
   "metadata": {},
   "outputs": [],
   "source": [
    "import numpy as np\n",
    "import matplotlib.pyplot as plt\n",
    "from scipy import integrate\n",
    "import scipy.stats as ss\n",
    "import math"
   ]
  },
  {
   "cell_type": "markdown",
   "metadata": {},
   "source": [
    "# Part 1"
   ]
  },
  {
   "cell_type": "code",
   "execution_count": 5,
   "metadata": {},
   "outputs": [],
   "source": [
    "def generate_normal_variance_One():\n",
    "    mean = 0\n",
    "    variance = 1\n",
    "    standard_deviation = math.sqrt(variance)\n",
    "    total_samples = 100\n",
    "\n",
    "    # The function normal(x, y, z) takes in the parameters for a \n",
    "    # normal distribution and returns a specified amount of samples.\n",
    "    VOne = np.random.normal(mean, standard_deviation, total_samples)\n",
    "    return VOne"
   ]
  },
  {
   "cell_type": "code",
   "execution_count": 6,
   "metadata": {},
   "outputs": [],
   "source": [
    "# generating a vector of 100 normal random variables N(0,1)\n",
    "VOne = generate_normal_variance_One()"
   ]
  },
  {
   "cell_type": "code",
   "execution_count": 7,
   "metadata": {},
   "outputs": [],
   "source": [
    "def generate_normal_variance_OnePointFive():\n",
    "    mean = 0\n",
    "    variance = 1.5\n",
    "    standard_deviation = math.sqrt(variance)\n",
    "    total_samples = 100\n",
    "    VOnePointFive = np.random.normal(mean, standard_deviation, total_samples)\n",
    "    return VOnePointFive"
   ]
  },
  {
   "cell_type": "code",
   "execution_count": 8,
   "metadata": {},
   "outputs": [],
   "source": [
    "# generating a vector of 100 normal random variables N(0,1.5)\n",
    "VOnePointFive = generate_normal_variance_OnePointFive()"
   ]
  },
  {
   "cell_type": "markdown",
   "metadata": {},
   "source": [
    "## Procedure A"
   ]
  },
  {
   "cell_type": "code",
   "execution_count": 32,
   "metadata": {},
   "outputs": [],
   "source": [
    "def proc_a(firstVector, secondVector):\n",
    "    # This function picks the vector with a larger variance based on\n",
    "    # which has a majority of the larger absolute value pairs.\n",
    "    # This function returns True if it decides secondVector comes from the\n",
    "    # variables with larger variance.\n",
    "    correctCount = 0\n",
    "    for i in range(100):\n",
    "        firstI = abs(firstVector[i])\n",
    "        secondI = abs(secondVector[i])\n",
    "        if firstI < secondI:\n",
    "            correctCount += 1\n",
    "    # print(\"correct pairs: \" + str(correctCount))\n",
    "            \n",
    "    return correctCount > 50"
   ]
  },
  {
   "cell_type": "code",
   "execution_count": 19,
   "metadata": {},
   "outputs": [
    {
     "name": "stdout",
     "output_type": "stream",
     "text": [
      "correct pairs: 57\n",
      "\n",
      "This function returned True, meaning that the function decided VOnePointFive is the vector with \n",
      "variables N(0,1.5)\n"
     ]
    }
   ],
   "source": [
    "if proc_a(VOne, VOnePointFive):\n",
    "    print(\"\\nThis function returned True, meaning that the \" + \n",
    "          \"function decided VOnePointFive is the vector with \\nvariables N(0,1.5)\")"
   ]
  },
  {
   "cell_type": "markdown",
   "metadata": {},
   "source": [
    "Procedure A shows that 57 of the 100 V1.5 variables had a larger absolute value \n",
    "than their matched V1 variables. \n",
    "This represents a majority and leads to the correct decision of VOnePointFive \n",
    "corresponding to variance 1.5."
   ]
  },
  {
   "cell_type": "markdown",
   "metadata": {},
   "source": [
    "#### Theoretical Value"
   ]
  },
  {
   "cell_type": "markdown",
   "metadata": {},
   "source": [
    "P(|X| < |Y|) = P(|X| < sqrt(1.5) |Y/sqrt(1.5)|) = P(|X|/|Y/(sqrt(1.5)| < sqrt(1.5)) = P(|Cauchy(0,1)| < sqrt(1.5))"
   ]
  },
  {
   "cell_type": "markdown",
   "metadata": {},
   "source": [
    "note: the below function does not integrate for absolute value of cauchy, but it should."
   ]
  },
  {
   "cell_type": "code",
   "execution_count": 93,
   "metadata": {},
   "outputs": [
    {
     "name": "stdout",
     "output_type": "stream",
     "text": [
      "Theoretical probability:  0.5640942168489749\n"
     ]
    }
   ],
   "source": [
    "cauchy = lambda x: 1 / (math.pi * (1 + x**2))\n",
    "print(\"Theoretical probability: \", integrate.quad(cauchy, -math.sqrt(1.5), math.sqrt(1.5))[0])"
   ]
  },
  {
   "cell_type": "markdown",
   "metadata": {},
   "source": [
    "## Procedure B"
   ]
  },
  {
   "cell_type": "code",
   "execution_count": 33,
   "metadata": {},
   "outputs": [],
   "source": [
    "def proc_b(first, second):\n",
    "    # This function picks the vector with a larger sum of squares as the\n",
    "    # vector with a larger variance or scale parameter.\n",
    "    # This function returns True if it decides the second input comes from the\n",
    "    # variables with larger variance.\n",
    "    firstMean = (1/100) * sum(first)\n",
    "    secondMean = (1/100) * sum(second)\n",
    "\n",
    "    firstSS = 0\n",
    "    for i in first:\n",
    "        firstSS += math.pow((i-firstMean), 2)\n",
    "    secondSS = 0\n",
    "    for i in second:\n",
    "        secondSS += math.pow((i-secondMean), 2)\n",
    "        \n",
    "    # print(\"firstSS: \" + str(firstSS))\n",
    "    # print(\"secondSS: \" + str(secondSS))\n",
    "    return firstSS < secondSS\n",
    "    "
   ]
  },
  {
   "cell_type": "code",
   "execution_count": 25,
   "metadata": {
    "scrolled": true
   },
   "outputs": [
    {
     "name": "stdout",
     "output_type": "stream",
     "text": [
      "firstSS: 84.73348440665744\n",
      "secondSS: 134.7244402934755\n",
      "\n",
      "This function returned True, meaning that the function correctly\n",
      "decided VOnePointFive is the vector with variables N(0,1.5)\n"
     ]
    }
   ],
   "source": [
    "if proc_b(VOne, VOnePointFive):\n",
    "    print(\"\\nThis function returned True, meaning that the function correctly\\n\" + \n",
    "          \"decided VOnePointFive is the vector with variables N(0,1.5)\")"
   ]
  },
  {
   "cell_type": "markdown",
   "metadata": {},
   "source": [
    "The function proc_b checks if the second vector has a larger sum of squares. The function outputting True, is equivalent to it stating that the second parameter has a larger sum of squares, and by extension that it is V1.5. Since VOnePointFive is passed as the second parameter, this procedure gives the correct answer."
   ]
  },
  {
   "cell_type": "markdown",
   "metadata": {},
   "source": [
    "## Procedure C"
   ]
  },
  {
   "cell_type": "code",
   "execution_count": 34,
   "metadata": {},
   "outputs": [],
   "source": [
    "def proc_c(first, second):\n",
    "    # This function picks the vector with a larger sample standard deviation\n",
    "    # as the vector with a larger variance or scale parameter.\n",
    "    # This function returns True if it decides the second input comes from the\n",
    "    # variables with larger variance.\n",
    "    firstMean = (1/100) * sum(first)\n",
    "    secondMean = (1/100) * sum(second)\n",
    "    total_samples = 100\n",
    "\n",
    "    firstSS = 0\n",
    "    for i in first:\n",
    "        firstSS += math.pow((i-firstMean), 2)\n",
    "    secondSS = 0\n",
    "    for i in second:\n",
    "        secondSS += math.pow((i-secondMean), 2)\n",
    "\n",
    "    firstSD = math.sqrt(firstSS/(total_samples-1))\n",
    "    secondSD = math.sqrt(secondSS/(total_samples-1))\n",
    "        \n",
    "    # print(\"firstSD: \" + str(firstSD))\n",
    "    # print(\"secondSD: \" + str(secondSD))\n",
    "    return firstSD < secondSD\n"
   ]
  },
  {
   "cell_type": "code",
   "execution_count": 28,
   "metadata": {
    "scrolled": true
   },
   "outputs": [
    {
     "name": "stdout",
     "output_type": "stream",
     "text": [
      "firstSD: 0.9251452760974509\n",
      "secondSD: 1.1665560133389774\n",
      "\n",
      "This function returned True, meaning that the function correctly\n",
      "decided VOnePointFive is the vector with variables N(0,1.5)\n"
     ]
    }
   ],
   "source": [
    "if proc_c(VOne, VOnePointFive):\n",
    "    print(\"\\nThis function returned True, meaning that the function correctly\\n\" + \n",
    "          \"decided VOnePointFive is the vector with variables N(0,1.5)\")"
   ]
  },
  {
   "cell_type": "markdown",
   "metadata": {},
   "source": [
    "The function proc_c checks if the sample standard deviation of the first vector is smaller than the standard deviation of the second vector.\n",
    "It outputs True if this is the case. This is equivalent to saying that the procedure decides that the second parameter is V1.5. Since the second parameter is VOnePointFive and proc_c outputs True, the procedure gives the correct answer."
   ]
  },
  {
   "cell_type": "markdown",
   "metadata": {},
   "source": [
    "## Procedure D"
   ]
  },
  {
   "cell_type": "code",
   "execution_count": 43,
   "metadata": {},
   "outputs": [],
   "source": [
    "def sign_test(first, second):\n",
    "    # The sign test finds differences between values and sums up the number of\n",
    "    # positive/negative differences.\n",
    "    # If there are more positive differences, this function returns True to\n",
    "    # indicate that it has decided that the second input comes from the variables\n",
    "    # with larger variance.\n",
    "    correctCount = 0\n",
    "    for i in range(100):\n",
    "        if first[i] < second[i]:\n",
    "            correctCount += 1\n",
    "    # print(\"correct pairs: \" + str(correctCount))\n",
    "            \n",
    "    return correctCount > 50\n",
    "\n",
    "def signed_rank_test(first, second):\n",
    "    # This function finds the differences between each pair, ranks their absolute\n",
    "    # values, and determines whehter the sum of the ranks' positive/negative values\n",
    "    # is positive or negative.\n",
    "    # This is similar to the method undergone in the Wilcoxon test.\n",
    "    # This function returns True if it decides the second input comes from the\n",
    "    # variables with larger variance.\n",
    "    absDifferences = []\n",
    "    differences = []\n",
    "    for i in range(100):\n",
    "        absDifferences.append(abs(second[i] - first[i]))\n",
    "        differences.append(second[i] - first[i])\n",
    "        \n",
    "    rankedDifferences = ss.rankdata(absDifferences)\n",
    "    for i in range(100):\n",
    "        # extracting positive/negative sign from original differences\n",
    "        rankedDifferences[i] = differences[i]*rankedDifferences[i]/absDifferences[i]\n",
    "    # print(\"Sum of the ranked differences: \" + str(sum(rankedDifferences)))\n",
    "    \n",
    "    return True if sum(rankedDifferences) > 0 else False\n",
    "    "
   ]
  },
  {
   "cell_type": "code",
   "execution_count": 41,
   "metadata": {},
   "outputs": [],
   "source": [
    "def proc_d(first, second):\n",
    "    # reducing the variables to a standard shift model\n",
    "    logFirst = [np.log(abs(i)) for i in first]\n",
    "    logSecond = [np.log(abs(i)) for i in second]\n",
    "    \n",
    "    return sign_test(logFirst, logSecond), signed_rank_test(logFirst, logSecond)\n",
    "    "
   ]
  },
  {
   "cell_type": "code",
   "execution_count": 42,
   "metadata": {
    "scrolled": true
   },
   "outputs": [
    {
     "name": "stdout",
     "output_type": "stream",
     "text": [
      "correct pairs: 57\n",
      "Sum of the ranked differences: 880.0\n",
      "\n",
      "The sign test function returned True, meaning that the function correctly\n",
      "decided VOnePointFive is the vector with variables N(0,1.5)\n",
      "\n",
      "The signed rank test function returned True, meaning that the function correctly\n",
      "decided VOnePointFive is the vector with variables N(0,1.5)\n"
     ]
    }
   ],
   "source": [
    "proc_d_results = proc_d(VOne, VOnePointFive)\n",
    "if proc_d_results[0]:\n",
    "    print(\"\\nThe sign test function returned True, meaning that the function correctly\\n\" + \n",
    "          \"decided VOnePointFive is the vector with variables N(0,1.5)\")\n",
    "if proc_d_results[1]:\n",
    "    print(\"\\nThe signed rank test function returned True, meaning that the function \" + \n",
    "          \"correctly\\ndecided VOnePointFive is the vector with variables N(0,1.5)\")\n"
   ]
  },
  {
   "cell_type": "markdown",
   "metadata": {},
   "source": [
    "## Generating 5 more collections and testing"
   ]
  },
  {
   "cell_type": "markdown",
   "metadata": {},
   "source": [
    "## Results of 5 collections:"
   ]
  },
  {
   "cell_type": "code",
   "execution_count": 57,
   "metadata": {
    "scrolled": true
   },
   "outputs": [
    {
     "name": "stdout",
     "output_type": "stream",
     "text": [
      "[A, B, C, sign, ranked sign]\n",
      "\n",
      "[True, True, True, True, True]\n",
      "[False, True, True, False, True]\n",
      "[True, True, True, True, True]\n",
      "[True, True, True, True, True]\n",
      "[True, True, True, True, True]\n",
      "\n",
      "[4, 5, 5, 4, 5]\n"
     ]
    }
   ],
   "source": [
    "results = []\n",
    "correct_results = [0]*5\n",
    "\n",
    "for i in range(5):\n",
    "    result_row = [0]*5\n",
    "    vOne = generate_normal_variance_One()\n",
    "    vOnePointFive = generate_normal_variance_OnePointFive()\n",
    "    result_row[0] = proc_a(vOne, vOnePointFive)\n",
    "    result_row[1] = proc_b(vOne, vOnePointFive)\n",
    "    result_row[2] = proc_c(vOne, vOnePointFive)\n",
    "    proc_d_res = proc_d(vOne, vOnePointFive)\n",
    "    result_row[3] = proc_d_res[0]\n",
    "    result_row[4] = proc_d_res[1]\n",
    "    \n",
    "    results.append(result_row)\n",
    "\n",
    "for i in range(5):\n",
    "    for j in range(5):\n",
    "        if results[i][j] == True:\n",
    "            correct_results[j] += 1\n",
    "        \n",
    "print(\"[A, B, C, sign, ranked sign]\\n\")\n",
    "for i in range(len(results)):\n",
    "    print(results[i])\n",
    "print(\"\\n\" + str(correct_results))\n"
   ]
  },
  {
   "cell_type": "markdown",
   "metadata": {},
   "source": [
    "#### Theoretical Values"
   ]
  },
  {
   "cell_type": "markdown",
   "metadata": {},
   "source": [
    "Procedure B\n",
    "\n",
    "P(sum of squares(N(0,1.5)) > sum of squares(N(0,1)))"
   ]
  },
  {
   "cell_type": "markdown",
   "metadata": {},
   "source": [
    "note: the degrees of freedom should be 99, 99 since you are introducing the sample mean"
   ]
  },
  {
   "cell_type": "code",
   "execution_count": 109,
   "metadata": {},
   "outputs": [
    {
     "name": "stdout",
     "output_type": "stream",
     "text": [
      "Theoretical Probability: 0.9780695578699148\n"
     ]
    }
   ],
   "source": [
    "# Finding P(F < 1.5) with F parameters 100, 100.\n",
    "print(\"Theoretical Probability: \" + str(ss.f.cdf(1.5, dfn=100, dfd=100)))"
   ]
  },
  {
   "cell_type": "markdown",
   "metadata": {},
   "source": [
    "Procedure C\n",
    "\n",
    "P(sample standard deviation(N(0,1.5)) > sample standard deviation(N(0,1)))"
   ]
  },
  {
   "cell_type": "code",
   "execution_count": 110,
   "metadata": {},
   "outputs": [
    {
     "name": "stdout",
     "output_type": "stream",
     "text": [
      "Theoretical Probability: 0.9780695578699148\n"
     ]
    }
   ],
   "source": [
    "print(\"Theoretical Probability: \" + str(ss.f.cdf(1.5, dfn=100, dfd=100)))"
   ]
  },
  {
   "cell_type": "markdown",
   "metadata": {},
   "source": [
    "Procedure D\n",
    "\n",
    "P(shifted sign test works)\n"
   ]
  },
  {
   "cell_type": "markdown",
   "metadata": {},
   "source": [
    "# Part 2"
   ]
  },
  {
   "cell_type": "code",
   "execution_count": 59,
   "metadata": {},
   "outputs": [],
   "source": [
    "def generate_cauchy_One():\n",
    "    location = 0\n",
    "    scale = 1\n",
    "    size = 100\n",
    "    VOne = ss.cauchy.rvs(location, scale, size)\n",
    "    return VOne\n",
    "\n",
    "def generate_cauchy_OnePointFive():\n",
    "    location = 0\n",
    "    scale = math.sqrt(1.5)\n",
    "    size = 100\n",
    "    VOnePointFive = ss.cauchy.rvs(location, scale, size)\n",
    "    return VOnePointFive\n",
    "    "
   ]
  },
  {
   "cell_type": "code",
   "execution_count": 74,
   "metadata": {
    "scrolled": true
   },
   "outputs": [
    {
     "name": "stdout",
     "output_type": "stream",
     "text": [
      "[A, B, C, sign, ranked sign]\n",
      "\n",
      "[True, False, False, True, True]\n",
      "[False, False, False, False, True]\n",
      "[True, True, True, True, True]\n",
      "[True, True, True, True, True]\n",
      "[True, True, True, True, True]\n",
      "\n",
      "correct results: [4, 3, 3, 4, 5]\n"
     ]
    }
   ],
   "source": [
    "results = []\n",
    "for i in range(5):\n",
    "    vOne = generate_cauchy_One()\n",
    "    vOnePointFive = generate_cauchy_OnePointFive()\n",
    "        \n",
    "    result_row = [0]*5\n",
    "    \n",
    "    result_row[0] = proc_a(vOne, vOnePointFive)\n",
    "    result_row[1] = proc_b(vOne, vOnePointFive)\n",
    "    result_row[2] = proc_c(vOne, vOnePointFive)\n",
    "    proc_d_res = proc_d(vOne, vOnePointFive)\n",
    "    result_row[3] = proc_d_res[0]\n",
    "    result_row[4] = proc_d_res[1]\n",
    "    \n",
    "    results.append(result_row)\n",
    "    \n",
    "print(\"[A, B, C, sign, ranked sign]\\n\")\n",
    "\n",
    "for i in range(len(results)):\n",
    "    print(results[i])\n",
    "    \n",
    "correct_results = [0]*5\n",
    "for i in range(5):\n",
    "    for j in range(5):\n",
    "        if results[i][j] == True:\n",
    "            correct_results[j] += 1\n",
    "            \n",
    "print(\"\\ncorrect results: \" + str(correct_results))\n"
   ]
  },
  {
   "cell_type": "markdown",
   "metadata": {},
   "source": [
    "P('sign test' works) = P(B(100, pa) > 50), where pa = .56 normal & .54 for cauchy\n",
    "    = P(N(o, 1) > 50.5 - 100pa / (100pa(1-pa))^.5 ) = .86 for N, .75 for C\n",
    "note: procedure A is similar to aggregated sign test\n",
    "    we say if col A > col B the majority of the time, it has larger sigma\n",
    "    "
   ]
  },
  {
   "cell_type": "markdown",
   "metadata": {},
   "source": [
    "note: easiest way to get procedure A theoretical probability for Cauchy would be to just use monte carlo sim (ie do 100000 runs)\n",
    "    accuracy for MC simulation ~ 1/(N)^.5 --> to increase your accuracy by a decimal, you need to increase your number of trials by 10"
   ]
  }
 ],
 "metadata": {
  "kernelspec": {
   "display_name": "Python 3",
   "language": "python",
   "name": "python3"
  },
  "language_info": {
   "codemirror_mode": {
    "name": "ipython",
    "version": 3
   },
   "file_extension": ".py",
   "mimetype": "text/x-python",
   "name": "python",
   "nbconvert_exporter": "python",
   "pygments_lexer": "ipython3",
   "version": "3.7.6"
  }
 },
 "nbformat": 4,
 "nbformat_minor": 4
}
