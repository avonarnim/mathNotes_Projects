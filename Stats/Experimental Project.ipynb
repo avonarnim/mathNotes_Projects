{
 "cells": [
  {
   "cell_type": "code",
   "execution_count": 1,
   "metadata": {},
   "outputs": [],
   "source": [
    "import scipy.stats as ss"
   ]
  },
  {
   "cell_type": "markdown",
   "metadata": {},
   "source": [
    "(1) Provide suitable background about the problem."
   ]
  },
  {
   "cell_type": "markdown",
   "metadata": {},
   "source": [
    "In this project, I will be testing whether bananas that were ripening together in a bunch ripen at a uniform rate. Bananas, and fruits in general, ripen in response to the presence of ethylene, a gaseous hormone. Because it is gaseous, it would be expected that all bananas in close proximity to one another will ripen at an even rate.\n",
    "\n",
    "Some fruits, such as tomatoes, have an inconsistent ripening timeline along a specific vine, and determining whether a fruit ripens evenly or unevenly has implications on their delivery from farms to consumers."
   ]
  },
  {
   "cell_type": "markdown",
   "metadata": {},
   "source": [
    "(2) Describe the assumptions you make about the probability distributions involved in the problem."
   ]
  },
  {
   "cell_type": "markdown",
   "metadata": {},
   "source": [
    "One key assumption made for data gathering was that the number of spots is representative of the overall fruit's ripeness. This was done because of an inability to either measure the sugar content of the bananas directly or quickly calculate the overall proportion of the surface area that was brown as opposed to yellow.\n",
    "Another assumption was that the bananas were all equal in size; this is important because it would mean the number of spots is representative of the spot density. This simplified the experiment by not requiring computation of the bananas' surface area.\n",
    "The size of the spots were also assumed to be normally distributed across all bananas, such that counting any given spot above a certain threshold would reflect ripeness approximately equally. "
   ]
  },
  {
   "cell_type": "markdown",
   "metadata": {},
   "source": [
    "(3) State the appropriate null and alternative hypothesis you are planning to test."
   ]
  },
  {
   "cell_type": "markdown",
   "metadata": {},
   "source": [
    "The null hypothesis for this experiment is that they do ripen at a uniform rate, and that the frequencies of spots across bananas in a bunch will be equal.\n",
    "    i.e n1 = n2 = ... = nm for m bananas.\n",
    "The alternative hypothesis is that they ripen at an uneven rate, and that there are at least 2 frequencies i and j, such that ni ≠ nj."
   ]
  },
  {
   "cell_type": "markdown",
   "metadata": {},
   "source": [
    "(4) Design an experiment to test the hypothesis. Keeping in mind the ideas from the book [e.g. Chapter 12] write a short paragraph describing the experiment and explaining why you think your design is reasonable."
   ]
  },
  {
   "cell_type": "markdown",
   "metadata": {},
   "source": [
    "This experiment will involve tallying the number of spots on each of six bananas in a bunch. The number of spots on each will be counted at the same sitting so as to not allow any banana to ripen significantly more than another. \n",
    "\n",
    "The expectation is that the frequency of spots is equal across all bananas.\n",
    "\n",
    "This experiment is reasonable based on the assumptions noted in Part 2, which state assert that the number of spots is an accurate indicator of the fruit's ripeness."
   ]
  },
  {
   "cell_type": "markdown",
   "metadata": {},
   "source": [
    "(5) Conduct the experiment and organize the data you collect."
   ]
  },
  {
   "cell_type": "code",
   "execution_count": 2,
   "metadata": {},
   "outputs": [
    {
     "name": "stdout",
     "output_type": "stream",
     "text": [
      "[435, 416, 425, 422, 445, 373]\n"
     ]
    }
   ],
   "source": [
    "# The spots by banana and by the ridge of the bananas are as follows:\n",
    "\n",
    "spotsByRidgeByBanana = [[76, 104, 83, 136, 36],\n",
    "                [78, 127, 38, 112, 61],\n",
    "                [53, 96, 97, 80, 99],\n",
    "                [93, 130, 51, 49, 99],\n",
    "                [59, 123, 68, 38, 157],\n",
    "                [24, 113, 80, 85, 71]]\n",
    "\n",
    "spotsByBanana = []\n",
    "for banana in spotsByRidgeByBanana:\n",
    "    spotsByBanana.append(sum(banana))\n",
    "print(spotsByBanana)"
   ]
  },
  {
   "cell_type": "markdown",
   "metadata": {},
   "source": [
    "(6) Use a suitable statistical test to test your hypothesis."
   ]
  },
  {
   "cell_type": "markdown",
   "metadata": {},
   "source": [
    "A Chi-Square test will be used.\n",
    "The expectation of spots on each banana is the sample mean across the bananas, which is 1257/3, or 419.33.\n",
    "The value of the test statistic is { (435-419.33)^2 + (416-419)^2 + (425-419)^2 + (422-419)^2 + (445-419)^2 + (373-419)^2 } / 419."
   ]
  },
  {
   "cell_type": "code",
   "execution_count": 3,
   "metadata": {},
   "outputs": [
    {
     "name": "stdout",
     "output_type": "stream",
     "text": [
      "419.3333333333333\n"
     ]
    }
   ],
   "source": [
    "allSpots = 0\n",
    "for banana in spotsByBanana:\n",
    "    allSpots += banana\n",
    "mean = allSpots/len(spotsByBanana)\n",
    "print(mean)"
   ]
  },
  {
   "cell_type": "code",
   "execution_count": 4,
   "metadata": {},
   "outputs": [
    {
     "name": "stdout",
     "output_type": "stream",
     "text": [
      "7.395866454689983\n"
     ]
    }
   ],
   "source": [
    "sumOfSquares = 0\n",
    "for banana in spotsByBanana:\n",
    "    sumOfSquares += (banana-mean)**2\n",
    "testStatistic = sumOfSquares/mean\n",
    "print(testStatistic)"
   ]
  },
  {
   "cell_type": "markdown",
   "metadata": {},
   "source": [
    "(7) Compute the p-value and explain whether the null hypothesis should be rejected or not."
   ]
  },
  {
   "cell_type": "markdown",
   "metadata": {},
   "source": [
    "The value of the test statistic is 7.40, and the distribution of the test statistic is Chi-square (df=5). The p-value is then 0.192.\n",
    "If we let our critical value, alpha, be 0.05, the null hypothesis should not be rejected."
   ]
  },
  {
   "cell_type": "code",
   "execution_count": 11,
   "metadata": {},
   "outputs": [
    {
     "data": {
      "text/plain": [
       "0.1928241718762419"
      ]
     },
     "execution_count": 11,
     "metadata": {},
     "output_type": "execute_result"
    }
   ],
   "source": [
    "1-ss.chi2.cdf(testStatistic, 5)"
   ]
  },
  {
   "cell_type": "markdown",
   "metadata": {},
   "source": [
    "(8) Write an overall summary"
   ]
  },
  {
   "cell_type": "markdown",
   "metadata": {},
   "source": [
    "This project used the frequency of spots on bananas to test if bananas in a bunch ripen at an even rate. Based on a null hypothesis that they ripen evenly, a chi-square test statistic value of 7.40 was found."
   ]
  }
 ],
 "metadata": {
  "kernelspec": {
   "display_name": "Python 3",
   "language": "python",
   "name": "python3"
  },
  "language_info": {
   "codemirror_mode": {
    "name": "ipython",
    "version": 3
   },
   "file_extension": ".py",
   "mimetype": "text/x-python",
   "name": "python",
   "nbconvert_exporter": "python",
   "pygments_lexer": "ipython3",
   "version": "3.7.6"
  }
 },
 "nbformat": 4,
 "nbformat_minor": 4
}
